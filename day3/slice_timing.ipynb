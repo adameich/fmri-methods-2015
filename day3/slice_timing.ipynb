{
 "metadata": {
  "name": "",
  "signature": "sha256:3461f19d4aa3477de91d2d540be5749504689528e34562609f3a6e20cc8b6505"
 },
 "name": "slice_timing",
 "nbformat": 3,
 "nbformat_minor": 0,
 "worksheets": [
  {
   "cells": [
    {
     "cell_type": "code",
     "collapsed": false,
     "input": [
      "# - compatibility with Python 3\n",
      "from __future__ import print_function  # print('me') instead of print 'me'\n",
      "from __future__ import division  # 1/2 == 0.5, not 0"
     ],
     "language": "python",
     "metadata": {},
     "outputs": []
    },
    {
     "cell_type": "code",
     "collapsed": false,
     "input": [
      "# - show figures inside the notebook\n",
      "%matplotlib inline"
     ],
     "language": "python",
     "metadata": {},
     "outputs": []
    },
    {
     "cell_type": "code",
     "collapsed": false,
     "input": [
      "# - import common modules\n",
      "import numpy as np  # the Python array package\n",
      "import matplotlib.pyplot as plt  # the Python plotting package"
     ],
     "language": "python",
     "metadata": {},
     "outputs": []
    },
    {
     "cell_type": "code",
     "collapsed": false,
     "input": [
      "# - set defaults for plotting\n",
      "plt.rcParams['image.cmap'] = 'gray'\n",
      "plt.rcParams['image.interpolation'] = 'nearest'"
     ],
     "language": "python",
     "metadata": {},
     "outputs": []
    },
    {
     "cell_type": "markdown",
     "metadata": {},
     "source": [
      "Load the image `ds114_sub009_t2r1.nii` with nibabel.  Get the data:"
     ]
    },
    {
     "cell_type": "code",
     "collapsed": false,
     "input": [
      "# Load the image 'ds114_sub009_t2r1.nii' with nibabel\n",
      "# Get the data array from the image"
     ],
     "language": "python",
     "metadata": {},
     "outputs": []
    },
    {
     "cell_type": "markdown",
     "metadata": {},
     "source": [
      "As you remember, the first volume in this dataset is a lot different from the rest, and this will mess up our interpolation in time.\n",
      "\n",
      "So, we need to remove the first volume from the data first, using slicing:"
     ]
    },
    {
     "cell_type": "code",
     "collapsed": false,
     "input": [
      "# Remove the first volume by slicing"
     ],
     "language": "python",
     "metadata": {},
     "outputs": []
    },
    {
     "cell_type": "markdown",
     "metadata": {},
     "source": [
      "We start off with example time-courses from the first and second slice.\n",
      "\n",
      "Use slicing to get a z slice 0 time series for an example voxel at voxel coordinates (23, 19, 0).\n",
      "\n",
      "Do the same for a z slice 1 time series from (23, 19, 1).\n",
      "\n",
      "Plot these time series against volume number (TR number) on the same graph:"
     ]
    },
    {
     "cell_type": "code",
     "collapsed": false,
     "input": [
      "# Slice out time series for voxel (23, 19, 0)\n",
      "# Slice out time series for voxel (23, 19, 1)\n",
      "# Plot both these time series against volume number, on the same graph"
     ],
     "language": "python",
     "metadata": {},
     "outputs": []
    },
    {
     "cell_type": "markdown",
     "metadata": {},
     "source": [
      "The scanner collected slices for these data in an \"ascending interleaved\" order.  That is, the scanner first collected z slice 0, then z slice 2, up to z slice 28.  It then went back to collect z slice 1, 3, 5 up to z slice 29.\n",
      "\n",
      "That means the scanner started collecting slice 0 in each volume, at the beginning of the TR.\n",
      "\n",
      "The TR is 2.5 seconds."
     ]
    },
    {
     "cell_type": "code",
     "collapsed": false,
     "input": [
      "# - the time between scans\n",
      "TR = 2.5"
     ],
     "language": "python",
     "metadata": {},
     "outputs": []
    },
    {
     "cell_type": "markdown",
     "metadata": {},
     "source": [
      "Make a time vector, length 172, that corresponds to the start time in seconds of each volume.  This also gives the slice 0 start times."
     ]
    },
    {
     "cell_type": "code",
     "collapsed": false,
     "input": [
      "# Make time vector containing start times in second of each volume,\n",
      "# relative to start of first volume.\n",
      "# Call this `slice_0_times`"
     ],
     "language": "python",
     "metadata": {},
     "outputs": []
    },
    {
     "cell_type": "markdown",
     "metadata": {},
     "source": [
      "The scanner starts to collect z slice 1 exactly half way through the TR.  Make a new vector that is the start time of acquisition of slice 1."
     ]
    },
    {
     "cell_type": "code",
     "collapsed": false,
     "input": [
      "# Make time vector containing start times in seconds of z slice 1,\n",
      "# relative to start of first volume.\n",
      "# Call this `slice_1_times`"
     ],
     "language": "python",
     "metadata": {},
     "outputs": []
    },
    {
     "cell_type": "markdown",
     "metadata": {},
     "source": [
      "Now plot the first 10 values for the slice 0 times, against the first 10 values of the slice 0 time series.\n",
      "\n",
      "To the same plot for the first 10 values of the slice 1 times, against the first 10 values of the slice 1 time series.\n",
      "\n",
      "Use the `:+` line marker for the plots to get the actual position of the points, and dotted lines betweeen them."
     ]
    },
    {
     "cell_type": "code",
     "collapsed": false,
     "input": [
      "# Plot first 10 values of slice 0 times against first 10 of slice 0 time series\n",
      "# Plot first 10 values of slice 1 times against first 10 of slice 1 time series\n",
      "# Use ':+' marker"
     ],
     "language": "python",
     "metadata": {},
     "outputs": []
    },
    {
     "cell_type": "markdown",
     "metadata": {},
     "source": [
      "Import `InterpolatedUnivariateSpline` from `scipy.interpolate`.  Make a new linear (`k=1`) interpolation object for slice 1, with the slice 1 times and values."
     ]
    },
    {
     "cell_type": "code",
     "collapsed": false,
     "input": [
      "# Import `InterpolatedUnivariateSpline` from `scipy.interpolate`\n",
      "# Make a new linear (`k=1`) interpolation object for slice 1, with slice 1 times and values."
     ],
     "language": "python",
     "metadata": {},
     "outputs": []
    },
    {
     "cell_type": "markdown",
     "metadata": {},
     "source": [
      "Call the object you got with the slice 0 times, to get the estimated time series values for slice 1, if slice 1 had been collected at the same time as slice 0:"
     ]
    },
    {
     "cell_type": "code",
     "collapsed": false,
     "input": [
      "# Call interpolator with `slice_0_times` to get estimated values"
     ],
     "language": "python",
     "metadata": {},
     "outputs": []
    },
    {
     "cell_type": "markdown",
     "metadata": {},
     "source": [
      "Repeat the plot of the first 10 values of the time series.  This time, on the same plot, add the estimated values for slice 1, if they had been collected at the same time as slice 0.  Use a black `x` for the estimated points (marker `kx'`):"
     ]
    },
    {
     "cell_type": "code",
     "collapsed": false,
     "input": [
      "# Plot first 10 values of slice 0 times against first 10 of slice 0 time series\n",
      "# Plot first 10 values of slice 1 times against first 10 of slice 1 time series\n",
      "# Plot first 10 values of slice 0 times against first 10 of interpolated slice 1 time series"
     ],
     "language": "python",
     "metadata": {},
     "outputs": []
    },
    {
     "cell_type": "markdown",
     "metadata": {},
     "source": [
      "Make a new data matrix to contain the slice time corrected values for all voxels.  We want to keep the values for z slice 0 unchanged, so make the new data matrix by copying the old one (and therefore getting the slice 0 values):"
     ]
    },
    {
     "cell_type": "code",
     "collapsed": false,
     "input": [
      "# Copy old data to a new array"
     ],
     "language": "python",
     "metadata": {},
     "outputs": []
    },
    {
     "cell_type": "markdown",
     "metadata": {},
     "source": [
      "Loop over every x voxel coordinate, and then loop over every y voxel coordinate.\n",
      "\n",
      "For each x, y voxel coordinate:\n",
      "\n",
      "* extract the time series at this x, y coordinate for slice 1;\n",
      "* make a linear interpolator object with the slice 1 times and the extracted time series;\n",
      "* resample this interpolator at the slice 0 times;\n",
      "* put this new resampled time series into the new data at the same position"
     ]
    },
    {
     "cell_type": "code",
     "collapsed": false,
     "input": [
      "# loop over all x coordinate values\n",
      "# loop over all y coordinate values\n",
      "# extract the time series at this x, y coordinate for slice 1;\n",
      "# make a linear interpolator object with the slice 1 times and the extracted time series;\n",
      "# resample this interpolator at the slice 0 times;\n",
      "# put this new resampled time series into the new data at the same position"
     ],
     "language": "python",
     "metadata": {},
     "outputs": []
    },
    {
     "cell_type": "markdown",
     "metadata": {},
     "source": [
      "Now we need to do the same thing for all the z slices."
     ]
    },
    {
     "cell_type": "markdown",
     "metadata": {},
     "source": [
      "To do this, we want to construct an offset vector (call it `time_offset`) of length (number of z slices) such that adding the `time_offset[z]` to the acquisition time of the the first slice will give us the time of acquisition of slice `z`.  The next few steps are to get to that `time_offset` vector."
     ]
    },
    {
     "cell_type": "markdown",
     "metadata": {},
     "source": [
      "First, make a new vector `acquisition_order` that is length 30, where `acquisition_order[i]` is the order of acquisition of slice index `i`.  For example, the first 4 elements of `acqusition_order` should be 0, 15, 1, 16."
     ]
    },
    {
     "cell_type": "code",
     "collapsed": false,
     "input": [
      "# Make acquisition_order vector, length 30, with values:\n",
      "# 0, 15, 1, 16 ... 14, 29"
     ],
     "language": "python",
     "metadata": {},
     "outputs": []
    },
    {
     "cell_type": "markdown",
     "metadata": {},
     "source": [
      "Divide the acquisition order vector by number of slices, and multiply by the TR, to get the time offset for each z slice, relative to the start of the scan:"
     ]
    },
    {
     "cell_type": "code",
     "collapsed": false,
     "input": [
      "# Divide acquisition_order by number of slices, multiply by TR"
     ],
     "language": "python",
     "metadata": {},
     "outputs": []
    },
    {
     "cell_type": "markdown",
     "metadata": {},
     "source": [
      "Now we can do our whole slice time correction, for every slice.\n",
      "\n",
      "* For each z coordinate (slice index):\n",
      "    * Make a time vector by adding the slice time offset for this slice, to the slice_0 times.  Call this the `slice_z_times` vector;\n",
      "    * For each x coordinate:\n",
      "        * For each y coordinate:\n",
      "            * extract the time series at this x, y, z coordinate;\n",
      "            * make a linear interpolator object with the `slice_z_times` and the extracted time series;\n",
      "            * resample this interpolator at the slice 0 times;\n",
      "            * put this new resampled time series into the new data at the same position"
     ]
    },
    {
     "cell_type": "code",
     "collapsed": false,
     "input": [
      "# For each z coordinate (slice index):\n",
      "## Make `slice_z_times` vector for this slice\n",
      "### For each x coordinate:\n",
      "#### For each y coordinate:\n",
      "##### extract the time series at this x, y, z coordinate;\n",
      "##### make a linear interpolator object with the `slice_z_times` and the extracted time series;\n",
      "##### resample this interpolator at the slice 0 times;\n",
      "##### put this new resampled time series into the new data at the same position"
     ],
     "language": "python",
     "metadata": {},
     "outputs": []
    },
    {
     "cell_type": "markdown",
     "metadata": {},
     "source": [
      "Congratulations - you have just done slice timing correction on this 4D image."
     ]
    }
   ],
   "metadata": {}
  }
 ]
}