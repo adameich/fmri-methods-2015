{
 "cells": [
  {
   "cell_type": "markdown",
   "metadata": {},
   "source": [
    "# Calculating transformations between images"
   ]
  },
  {
   "cell_type": "markdown",
   "metadata": {},
   "source": [
    "In which we discover optimization, cost functions and how to use them."
   ]
  },
  {
   "cell_type": "code",
   "execution_count": 1,
   "metadata": {
    "collapsed": false
   },
   "outputs": [],
   "source": [
    "# - compatibility with Python 3\n",
    "from __future__ import print_function  # print('me') instead of print 'me'\n",
    "from __future__ import division  # 1/2 == 0.5, not 0"
   ]
  },
  {
   "cell_type": "code",
   "execution_count": 2,
   "metadata": {
    "collapsed": false
   },
   "outputs": [],
   "source": [
    "# - show figures inside the notebook\n",
    "%matplotlib inline"
   ]
  },
  {
   "cell_type": "code",
   "execution_count": 3,
   "metadata": {
    "collapsed": false
   },
   "outputs": [],
   "source": [
    "# - import common modules\n",
    "import numpy as np  # the Python array package\n",
    "import matplotlib.pyplot as plt  # the Python plotting package"
   ]
  },
  {
   "cell_type": "code",
   "execution_count": 4,
   "metadata": {
    "collapsed": false
   },
   "outputs": [],
   "source": [
    "# - set gray colormap and nearest neighbor interpolation by default\n",
    "plt.rcParams['image.cmap'] = 'gray'\n",
    "plt.rcParams['image.interpolation'] = 'nearest'"
   ]
  },
  {
   "cell_type": "markdown",
   "metadata": {},
   "source": [
    "## Introduction"
   ]
  },
  {
   "cell_type": "markdown",
   "metadata": {},
   "source": [
    "We often want to work out some set of spatial transformations that will make one image be a better match to another.\n",
    "\n",
    "One example is motion correction in FMRI.  We know that the subject moves over the course of an FMRI run.  To correct for this, we may want to take each volume in the run, and match this volume to the first volume in the run.  To do this, we need to work out what the best set of transformations are to match - say - volume 1 to volume 0."
   ]
  },
  {
   "cell_type": "markdown",
   "metadata": {},
   "source": [
    "## Get the data"
   ]
  },
  {
   "cell_type": "markdown",
   "metadata": {},
   "source": [
    "We start with a single slice from the each of the first two volumes in the EPI (BOLD) data."
   ]
  },
  {
   "cell_type": "markdown",
   "metadata": {},
   "source": [
    "We load the 4D EPI image, and get the data:"
   ]
  },
  {
   "cell_type": "code",
   "execution_count": 5,
   "metadata": {
    "collapsed": false
   },
   "outputs": [
    {
     "data": {
      "text/plain": [
       "(64, 64, 35, 166)"
      ]
     },
     "execution_count": 5,
     "metadata": {},
     "output_type": "execute_result"
    }
   ],
   "source": [
    "import nibabel as nib\n",
    "img = nib.load('ds107_sub012_t1r2.nii')\n",
    "data = img.get_data()\n",
    "data.shape"
   ]
  },
  {
   "cell_type": "markdown",
   "metadata": {},
   "source": [
    "We need to make our data into floating point to make processing easier later"
   ]
  },
  {
   "cell_type": "code",
   "execution_count": 6,
   "metadata": {
    "collapsed": false
   },
   "outputs": [],
   "source": [
    "data = data.astype(np.float32)"
   ]
  },
  {
   "cell_type": "markdown",
   "metadata": {},
   "source": [
    "Get the first and second volumes:"
   ]
  },
  {
   "cell_type": "code",
   "execution_count": 7,
   "metadata": {
    "collapsed": false
   },
   "outputs": [
    {
     "data": {
      "text/plain": [
       "(64, 64, 35)"
      ]
     },
     "execution_count": 7,
     "metadata": {},
     "output_type": "execute_result"
    }
   ],
   "source": [
    "vol0 = data[..., 0]\n",
    "vol1 = data[..., 1]\n",
    "vol1.shape"
   ]
  },
  {
   "cell_type": "markdown",
   "metadata": {},
   "source": [
    "Now we get our slices.  Here I am getting slice index 17 in z, from the first volume:"
   ]
  },
  {
   "cell_type": "code",
   "execution_count": 8,
   "metadata": {
    "collapsed": false
   },
   "outputs": [
    {
     "data": {
      "text/plain": [
       "<matplotlib.image.AxesImage at 0x10f9903d0>"
      ]
     },
     "execution_count": 8,
     "metadata": {},
     "output_type": "execute_result"
    },
    {
     "data": {
      "image/png": "[encoded data removed]",
      "text/plain": [
       "<matplotlib.figure.Figure at 0x1070b5390>"
      ]
     },
     "metadata": {},
     "output_type": "display_data"
    }
   ],
   "source": [
    "mid_vol0 = vol0[:, :, 17]\n",
    "plt.imshow(mid_vol0)"
   ]
  },
  {
   "cell_type": "markdown",
   "metadata": {},
   "source": [
    "Here is the corresponding slice from volume 1:"
   ]
  },
  {
   "cell_type": "code",
   "execution_count": 9,
   "metadata": {
    "collapsed": false
   },
   "outputs": [
    {
     "data": {
      "text/plain": [
       "<matplotlib.image.AxesImage at 0x10fa9ce10>"
      ]
     },
     "execution_count": 9,
     "metadata": {},
     "output_type": "execute_result"
    },
    {
     "data": {
      "image/png": "[encoded data removed]",
      "text/plain": [
       "<matplotlib.figure.Figure at 0x10f940390>"
      ]
     },
     "metadata": {},
     "output_type": "display_data"
    }
   ],
   "source": [
    "mid_vol1 = vol1[:, :, 17]\n",
    "plt.imshow(mid_vol1)"
   ]
  },
  {
   "cell_type": "markdown",
   "metadata": {},
   "source": [
    "We might want to match these two slices so they are in the same position.  We will try and match the slices by moving the voxel values in slice 1 so that they are a better match to the voxel values in slice 0.  Our job is to find the best set of transformations to do this."
   ]
  },
  {
   "cell_type": "markdown",
   "metadata": {},
   "source": [
    "We would like to have some automatic way to calculate these transformations.\n",
    "\n",
    "The rest of this page is about how this automated method could (and does) work."
   ]
  },
  {
   "cell_type": "markdown",
   "metadata": {},
   "source": [
    "At the moment it is hard to see any difference between the two images.  That is still true even if we put the slices side by side:"
   ]
  },
  {
   "cell_type": "code",
   "execution_count": 10,
   "metadata": {
    "collapsed": false
   },
   "outputs": [
    {
     "data": {
      "text/plain": [
       "<matplotlib.text.Text at 0x10fcf9250>"
      ]
     },
     "execution_count": 10,
     "metadata": {},
     "output_type": "execute_result"
    },
    {
     "data": {
      "image/png": "[encoded data removed]",
      "text/plain": [
       "<matplotlib.figure.Figure at 0x10fac14d0>"
      ]
     },
     "metadata": {},
     "output_type": "display_data"
    }
   ],
   "source": [
    "fig, axes = plt.subplots(1, 2, figsize=(10, 20))\n",
    "axes[0].imshow(mid_vol0)\n",
    "axes[0].set_title('slice 0')\n",
    "axes[1].imshow(mid_vol1)\n",
    "axes[1].set_title('slice 1')"
   ]
  },
  {
   "cell_type": "markdown",
   "metadata": {},
   "source": [
    "The slices are very similar, because the movement between the two volumes is very small - often the movements in an FMRI run are less than a single voxel."
   ]
  },
  {
   "cell_type": "markdown",
   "metadata": {},
   "source": [
    "In order to show the automated matching procedure in action, let's start with an image that is obviously badly matched with slice 0.  We will do this by pushing slice 0 (`mid_vol1`) 8 voxels down.\n",
    "\n",
    "After that we will try to match the shifted version (`shifted_mid_vol1`) to ``mid_vol0``:"
   ]
  },
  {
   "cell_type": "code",
   "execution_count": 11,
   "metadata": {
    "collapsed": false
   },
   "outputs": [
    {
     "data": {
      "text/plain": [
       "<matplotlib.image.AxesImage at 0x1103ba450>"
      ]
     },
     "execution_count": 11,
     "metadata": {},
     "output_type": "execute_result"
    },
    {
     "data": {
      "image/png": "[encoded data removed]",
      "text/plain": [
       "<matplotlib.figure.Figure at 0x10fd4c8d0>"
      ]
     },
     "metadata": {},
     "output_type": "display_data"
    }
   ],
   "source": [
    "# Make slice full of zeros like mid_vol1 slice\n",
    "shifted_mid_vol1 = np.zeros(mid_vol1.shape)\n",
    "# Fill the lower 54 (of 64) x lines with mid_vol1\n",
    "shifted_mid_vol1[8:, :] = mid_vol1[:-8, :]\n",
    "# Now we have something like mid_vol1 but translated in the first dimension\n",
    "plt.imshow(shifted_mid_vol1)"
   ]
  },
  {
   "cell_type": "markdown",
   "metadata": {},
   "source": [
    "## Formulating the matching problem"
   ]
  },
  {
   "cell_type": "markdown",
   "metadata": {},
   "source": [
    "Let's say we did not know how many voxels the image had been translated.  We want a good way to find out.\n",
    "\n",
    "Let's put our problem in a more concrete form.  We are going to try translating our `shifted_mid_vol1` over the first ($x$) axis.  Call this translation $t$, so a movement of -5 voxels in $x$ gives $t=-5$.\n",
    "\n",
    "Call the first image $\\mathbf{X}$ (`mid_vol0` in our case).  Call the second image  $\\mathbf{Y}$ (`shifted_mid_vol1` in our case).  $\\mathbf{Y}_t$ is $\\mathbf{Y}$ translated in $x$ by $t$ voxels.\n",
    "\n",
    "$t$ is a good translation if the image $\\mathbf{Y}_t$ is a good match for image $\\mathbf{X}$.\n",
    "\n",
    "We need to quantify what we mean by good match.  That is, we need some measure of quality of match, given two images $\\mathbf{X}$ and $\\mathbf{Y}$.  Call this measure $M(\\mathbf{X}, \\mathbf{Y})$, and let us specify that the value of $M(\\mathbf{X}, \\mathbf{Y})$ should be lower when the images match well.  We could therefore call $M(\\mathbf{X}, \\mathbf{Y})$ a *mismatch* function.\n",
    "\n",
    "Now we can formulate our problem - we want to find the translation $t$ that gives the lowest value of $M(\\mathbf{X}, \\mathbf{Y_t})$.\n",
    "\n",
    "Practically, we are going to need the following things:\n",
    "\n",
    "* A function to generate $\\mathbf{Y_t}$;\n",
    "* A function to give the mismatch between two images.\n",
    "\n",
    "Here's the function to generate $\\mathbf{Y_t}$ - the image $\\mathbf{Y}$ shifted by $t$ voxels in $x$:"
   ]
  },
  {
   "cell_type": "code",
   "execution_count": 12,
   "metadata": {
    "collapsed": false
   },
   "outputs": [],
   "source": [
    "def x_trans_slice(img_slice, x_vox_trans):\n",
    "    \"\"\" Make a new copy of `img_slice` translated by `x_vox_trans` voxels\n",
    "    \n",
    "    `x_vox_trans` can be positive or negative\n",
    "    \"\"\"\n",
    "    # Make a 0-filled array of same shape as `img_slice`\n",
    "    trans_slice = np.zeros(img_slice.shape)\n",
    "    # Use slicing to select voxels out of the image and move them\n",
    "    # Up or down on the first (x) axis\n",
    "    if x_vox_trans < 0:\n",
    "        trans_slice[:x_vox_trans, :] = img_slice[-x_vox_trans:, :]\n",
    "    elif x_vox_trans == 0:\n",
    "        trans_slice[:, :] = img_slice\n",
    "    else:\n",
    "        trans_slice[x_vox_trans:, :] = img_slice[:-x_vox_trans, :]\n",
    "    return trans_slice"
   ]
  },
  {
   "cell_type": "markdown",
   "metadata": {},
   "source": [
    "## Choosing a metric for image mismatch"
   ]
  },
  {
   "cell_type": "markdown",
   "metadata": {},
   "source": [
    "Next we need a mismatch function that accepts two images, and returns a scalar value that is low when the images are well matched."
   ]
  },
  {
   "cell_type": "markdown",
   "metadata": {},
   "source": [
    "We could imagine a mismatch measure that used the values from subtracting the two images:"
   ]
  },
  {
   "cell_type": "code",
   "execution_count": 13,
   "metadata": {
    "collapsed": false
   },
   "outputs": [
    {
     "data": {
      "text/plain": [
       "<matplotlib.image.AxesImage at 0x110a49890>"
      ]
     },
     "execution_count": 13,
     "metadata": {},
     "output_type": "execute_result"
    },
    {
     "data": {
      "image/png": "[encoded data removed]",
      "text/plain": [
       "<matplotlib.figure.Figure at 0x10fd4ced0>"
      ]
     },
     "metadata": {},
     "output_type": "display_data"
    }
   ],
   "source": [
    "plt.imshow(mid_vol0 - shifted_mid_vol1)"
   ]
  },
  {
   "cell_type": "markdown",
   "metadata": {},
   "source": [
    "Can we take the sum of this difference as our scalar measure of mismatch?\n",
    "\n",
    "No, because the negative numbers (black) will cancel out the positive numbers (white).  We need something better:"
   ]
  },
  {
   "cell_type": "code",
   "execution_count": 14,
   "metadata": {
    "collapsed": false
   },
   "outputs": [],
   "source": [
    "def mean_abs_mismatch(slice0, slice1):\n",
    "    \"\"\" Mean absoute difference between images\n",
    "    \"\"\"\n",
    "    return np.mean(np.abs(slice0 - slice1))"
   ]
  },
  {
   "cell_type": "markdown",
   "metadata": {},
   "source": [
    "Now we can check different values of translation with our mismatch function.  We move the image up and down for a range of values of $t$ and recalculate the mismatch measure for every candidate translation:"
   ]
  },
  {
   "cell_type": "code",
   "execution_count": 15,
   "metadata": {
    "collapsed": false
   },
   "outputs": [],
   "source": [
    "mismatches = []\n",
    "translations = range(-25, 15)  # Candidate values for t\n",
    "for t in translations:\n",
    "    # Make the translated image Y_t\n",
    "    unshifted = x_trans_slice(shifted_mid_vol1, t)\n",
    "    # Calculate the mismatch\n",
    "    mismatch = mean_abs_mismatch(unshifted, mid_vol0)\n",
    "    # Store it for later\n",
    "    mismatches.append(mismatch)"
   ]
  },
  {
   "cell_type": "code",
   "execution_count": 16,
   "metadata": {
    "collapsed": false
   },
   "outputs": [
    {
     "data": {
      "text/plain": [
       "<matplotlib.text.Text at 0x110baa0d0>"
      ]
     },
     "execution_count": 16,
     "metadata": {},
     "output_type": "execute_result"
    },
    {
     "data": {
      "image/png": "[encoded data removed]",
      "text/plain": [
       "<matplotlib.figure.Figure at 0x110987390>"
      ]
     },
     "metadata": {},
     "output_type": "display_data"
    }
   ],
   "source": [
    "plt.plot(translations, mismatches)\n",
    "plt.xlabel('translation (t)')\n",
    "plt.ylabel('mean absolute difference')"
   ]
  },
  {
   "cell_type": "markdown",
   "metadata": {},
   "source": [
    "We can try other measures of mismatch.  Another measure of how well the images match might be the correlation of the voxel values at each voxel.  When the images are well matched, we expect black values in one image to be matched with black in the other, ditto for white."
   ]
  },
  {
   "cell_type": "code",
   "execution_count": 17,
   "metadata": {
    "collapsed": false
   },
   "outputs": [
    {
     "data": {
      "text/plain": [
       "0.9981194331127774"
      ]
     },
     "execution_count": 17,
     "metadata": {},
     "output_type": "execute_result"
    },
    {
     "data": {
      "image/png": "[encoded data removed]",
      "text/plain": [
       "<matplotlib.figure.Figure at 0x110bc0d10>"
      ]
     },
     "metadata": {},
     "output_type": "display_data"
    }
   ],
   "source": [
    "# Number of voxels in the image\n",
    "n_voxels = np.prod(mid_vol1.shape)\n",
    "# Reshape vol0 slice as 1D vector\n",
    "mid_vol0_as_1d = mid_vol0.reshape(n_voxels)\n",
    "# Reshape vol1 slice as 1D vector\n",
    "mid_vol1_as_1d = mid_vol1.reshape(n_voxels)\n",
    "# These original slices should be very close to each other already\n",
    "# So - plotting one set of image values against the other should\n",
    "# be close to a straight line\n",
    "plt.plot(mid_vol0_as_1d, mid_vol1_as_1d, '.')\n",
    "plt.xlabel('voxels in vol0 slice')\n",
    "plt.ylabel('voxels in original vol1 slice')\n",
    "# Correlation coefficient between them\n",
    "np.corrcoef(mid_vol0_as_1d, mid_vol1_as_1d)[0, 1]"
   ]
  },
  {
   "cell_type": "code",
   "execution_count": 18,
   "metadata": {
    "collapsed": false
   },
   "outputs": [
    {
     "data": {
      "text/plain": [
       "0.44628693638267175"
      ]
     },
     "execution_count": 18,
     "metadata": {},
     "output_type": "execute_result"
    },
    {
     "data": {
      "image/png": "[encoded data removed]",
      "text/plain": [
       "<matplotlib.figure.Figure at 0x110c5f510>"
      ]
     },
     "metadata": {},
     "output_type": "display_data"
    }
   ],
   "source": [
    "# The shifted slice will be less well matched\n",
    "# Therefore the line will be less straight and narrow\n",
    "plt.plot(mid_vol0_as_1d, shifted_mid_vol1.ravel(), '.')\n",
    "plt.xlabel('voxels in vol0 slice')\n",
    "plt.ylabel('voxels in shifted vol1 slice')\n",
    "# Correlation coefficient between them will be nearer 0\n",
    "np.corrcoef(mid_vol0_as_1d, shifted_mid_vol1.ravel())[0, 1]"
   ]
  },
  {
   "cell_type": "markdown",
   "metadata": {},
   "source": [
    "We expect that the correlation will be high and positive when the images are well matched.  Our *mismatch measure*, on the other hand, should be *low* when the images are well-matched.  So, we can use the negative correlation as our mismatch measure:"
   ]
  },
  {
   "cell_type": "code",
   "execution_count": 19,
   "metadata": {
    "collapsed": false
   },
   "outputs": [],
   "source": [
    "def correl_mismatch(slice0, slice1):\n",
    "    \"\"\" Negative correlation between the two images, flattened to 1D \"\"\"\n",
    "    correl = np.corrcoef(slice0.ravel(), slice1.ravel())[0, 1]\n",
    "    return -correl"
   ]
  },
  {
   "cell_type": "code",
   "execution_count": 20,
   "metadata": {
    "collapsed": false
   },
   "outputs": [],
   "source": [
    "correl_mismatches = []\n",
    "translations = range(-25, 15)  # Candidate values for t\n",
    "for t in translations:\n",
    "    unshifted = x_trans_slice(shifted_mid_vol1, t)\n",
    "    mismatch = correl_mismatch(unshifted, mid_vol0)\n",
    "    correl_mismatches.append(mismatch)"
   ]
  },
  {
   "cell_type": "code",
   "execution_count": 21,
   "metadata": {
    "collapsed": false
   },
   "outputs": [
    {
     "data": {
      "text/plain": [
       "<matplotlib.text.Text at 0x110c48390>"
      ]
     },
     "execution_count": 21,
     "metadata": {},
     "output_type": "execute_result"
    },
    {
     "data": {
      "image/png": "[encoded data removed]",
      "text/plain": [
       "<matplotlib.figure.Figure at 0x110bf38d0>"
      ]
     },
     "metadata": {},
     "output_type": "display_data"
    }
   ],
   "source": [
    "plt.plot(translations, correl_mismatches)\n",
    "plt.xlabel('translation (t)')\n",
    "plt.ylabel('correlation mismatch')"
   ]
  },
  {
   "cell_type": "markdown",
   "metadata": {},
   "source": [
    "So far we have only tried translations of integer numbers of voxels (0, 1, 2, 3...).\n",
    "\n",
    "How about non-integer translations?  Will these work?\n",
    "\n",
    "To do a non-integer translation, we have to think more generally about how to make an image that matches another image, after a transformation."
   ]
  },
  {
   "cell_type": "markdown",
   "metadata": {},
   "source": [
    "## Resampling in 2D"
   ]
  },
  {
   "cell_type": "markdown",
   "metadata": {},
   "source": [
    "We need a more general resampling algorithm.  This is like the interpolation we do for slice timing, but in two dimensions.\n",
    "\n",
    "Let's say we want to do a voxel translation of 0.5 voxels in X.  The way we might go about this is the following.\n",
    "\n",
    "To start, here are some names:\n",
    "\n",
    "* `img0` is the image we are trying to match to (in our case `mid_vol0`);\n",
    "* `img1` is the image we are trying to match by moving (in our case `shifted_mid_vol1`);\n",
    "* `trans` is the transformation from pixel coordinates in `img1` to pixel coordinates in `img0` (in our case adding 0.5 to the first coordinate value, so that [0, 0] becomes [0.5, 0]);\n",
    "* `itrans` is the inverse of `trans`, and gives the transformation to go from pixel coordinates in `img0` to pixel coordinates in `img1`.  In our case this is *subtracting* 0.5 from the first coordinate value.\n",
    "\n",
    "The procedure for resampling is:\n",
    "\n",
    "* Make a 2D image the same shape as the image we want to match to (`img0`) - call this `new_img0`;\n",
    "* For each pixel in `new_img0`;\n",
    "    * call the pixel coordinate for this pixel: `coord_for_img0`;\n",
    "    * transform `coord_for_img0` using `itrans`.  In our case this would be to subtract 0.5 from the first coordinate value ([0, 0] becomes [-0.5, 0]).  Call the transformed coordinate `coord_for_img1`;\n",
    "    * Estimate the pixel value in `img1` at coordinate `coord_for_img1`. Call this value `img1_value_estimate`;\n",
    "    * Insert `img1_value` into `new_img0` at coordinate `coord_for_img0`.\n",
    "    \n",
    "The \"Estimate pixel value\" step is called *resampling*.  As you can see this is the same general idea as interpolating in one dimension.  We saw one dimensional interpolation for slice timing.  There are various ways of interpolating in two or three dimensions, but one of the most obvious is the simple extension of linear interpolation to two (or more) dimensions - [bilinear interpolation](http://en.wikipedia.org/wiki/Bilinear_interpolation)."
   ]
  },
  {
   "cell_type": "markdown",
   "metadata": {},
   "source": [
    "The `scipy.ndimage` library has routines for resampling in 2 or 3 dimensions:"
   ]
  },
  {
   "cell_type": "code",
   "execution_count": 22,
   "metadata": {
    "collapsed": false
   },
   "outputs": [],
   "source": [
    "import scipy.ndimage as snd"
   ]
  },
  {
   "cell_type": "markdown",
   "metadata": {},
   "source": [
    "In fact the ``affine_transform`` function from `scipy.ndimage` will do the whole process for us."
   ]
  },
  {
   "cell_type": "code",
   "execution_count": 23,
   "metadata": {
    "collapsed": false
   },
   "outputs": [],
   "source": [
    "def fancy_x_trans_slice(img_slice, x_vox_trans):\n",
    "    \"\"\" Make a new copy of `img_slice` translated by `x_vox_trans` voxels\n",
    "    \n",
    "    `x_vox_trans` can be positive or negative, and can be a float.\n",
    "    \"\"\"\n",
    "    # Resample image using bilinear interpolation (order=1)\n",
    "    trans_slice = snd.affine_transform(img_slice, [1, 1], [-x_vox_trans, 0], order=1)\n",
    "    return trans_slice"
   ]
  },
  {
   "cell_type": "code",
   "execution_count": 24,
   "metadata": {
    "collapsed": false
   },
   "outputs": [],
   "source": [
    "fine_mismatches = []\n",
    "fine_translations = np.linspace(-25, 15, 100)\n",
    "for t in fine_translations:\n",
    "    unshifted = fancy_x_trans_slice(shifted_mid_vol1, t)\n",
    "    mismatch = correl_mismatch(unshifted, mid_vol0)\n",
    "    fine_mismatches.append(mismatch)"
   ]
  },
  {
   "cell_type": "code",
   "execution_count": 25,
   "metadata": {
    "collapsed": false
   },
   "outputs": [
    {
     "data": {
      "text/plain": [
       "[<matplotlib.lines.Line2D at 0x111177ad0>]"
      ]
     },
     "execution_count": 25,
     "metadata": {},
     "output_type": "execute_result"
    },
    {
     "data": {
      "image/png": "[encoded data removed]",
      "text/plain": [
       "<matplotlib.figure.Figure at 0x110df4510>"
      ]
     },
     "metadata": {},
     "output_type": "display_data"
    }
   ],
   "source": [
    "plt.plot(fine_translations, fine_mismatches)"
   ]
  },
  {
   "cell_type": "markdown",
   "metadata": {},
   "source": [
    "We are looking for the best x translation.  At the moment we have to sample lots of x translations and then choose the best.  Is there a better way?"
   ]
  },
  {
   "cell_type": "markdown",
   "metadata": {},
   "source": [
    "## Optimization"
   ]
  },
  {
   "cell_type": "markdown",
   "metadata": {},
   "source": [
    "*Optimization* is a field of mathematics / computer science that solves this exact problem:\n",
    "\n",
    "http://en.wikipedia.org/wiki/Mathematical_optimization\n",
    "\n",
    "There are many optimization routines in Python, MATLAB and other languages.  These routines typically allow you to pass some function, called the *objective* function, or the *cost* function.  The optimization routine returns the parameters of the cost function that give the lowest value.\n",
    "\n",
    "In our case, the cost function we need to minimize will accept one parameter (the translation), and return the mismatch value for that translation.  So, it will need to create the image $\\mathbf{X_t}$ and return $M(\\mathbf{X}, \\mathbf{Y_t})$.\n",
    "\n",
    "What does it mean to \"pass\" a function in Python.  Remember, in Python, [functions are objects too](functions_are_objects.ipynb).\n",
    "\n",
    "The optimization works by running the cost function at some starting value of the parameter (in our case, x translation), and using an algorithm to choose the next value of the parameter to try.  It continues trying new values until it finds a parameter value for which very small changes of the parameter up or down only increase the cost function value. At this point the routine stops and returns the parameter value.\n",
    "\n",
    "To write our cost function, we will use the fact that Python functions can access variables defined in the [global scope](global_scope.ipynb).  In our case the function `cost_function` can access variables `shifted_mid_vol1` and `mid_vol0` that we defined in the top level (global) scope of the notebook:"
   ]
  },
  {
   "cell_type": "code",
   "execution_count": 26,
   "metadata": {
    "collapsed": false
   },
   "outputs": [],
   "source": [
    "def cost_function(x_trans):\n",
    "    # Function can use image slices defined in the global (notebook) scope\n",
    "    # Calculate X_t - image translated by x_trans\n",
    "    unshifted = fancy_x_trans_slice(shifted_mid_vol1, x_trans)\n",
    "    # Return mismatch measure for the translated image X_t\n",
    "    return correl_mismatch(unshifted, mid_vol0)"
   ]
  },
  {
   "cell_type": "code",
   "execution_count": 27,
   "metadata": {
    "collapsed": false
   },
   "outputs": [
    {
     "data": {
      "text/plain": [
       "-0.44628693638267175"
      ]
     },
     "execution_count": 27,
     "metadata": {},
     "output_type": "execute_result"
    }
   ],
   "source": [
    "# value of the negative correlation for no translatino\n",
    "cost_function(0)"
   ]
  },
  {
   "cell_type": "code",
   "execution_count": 28,
   "metadata": {
    "collapsed": false
   },
   "outputs": [
    {
     "data": {
      "text/plain": [
       "-0.99703080735234673"
      ]
     },
     "execution_count": 28,
     "metadata": {},
     "output_type": "execute_result"
    }
   ],
   "source": [
    "# value of the negative correlation for translation of -8 voxels\n",
    "cost_function(-8)"
   ]
  },
  {
   "cell_type": "markdown",
   "metadata": {},
   "source": [
    "Now we get a general optimizing routine from the `scipy` Python library.  `fmin_powell` finds the minimum of a function using [Powell's method](https://en.wikipedia.org/wiki/Powell%27s_method) of numerical optimization:"
   ]
  },
  {
   "cell_type": "code",
   "execution_count": 29,
   "metadata": {
    "collapsed": false
   },
   "outputs": [],
   "source": [
    "from scipy.optimize import fmin_powell"
   ]
  },
  {
   "cell_type": "markdown",
   "metadata": {},
   "source": [
    "We pass the ``fmin_powell`` routine our Python cost function, and a starting value of zero for the translation:"
   ]
  },
  {
   "cell_type": "code",
   "execution_count": 30,
   "metadata": {
    "collapsed": false
   },
   "outputs": [
    {
     "name": "stdout",
     "output_type": "stream",
     "text": [
      "Optimization terminated successfully.\n",
      "         Current function value: -0.997032\n",
      "         Iterations: 2\n",
      "         Function evaluations: 27\n"
     ]
    },
    {
     "data": {
      "text/plain": [
       "array(-7.996026691215329)"
      ]
     },
     "execution_count": 30,
     "metadata": {},
     "output_type": "execute_result"
    }
   ],
   "source": [
    "fmin_powell(cost_function, [0])"
   ]
  },
  {
   "cell_type": "markdown",
   "metadata": {},
   "source": [
    "The function ran, and found that a translation of very nearly -8 gave the smallest value for our cost function."
   ]
  },
  {
   "cell_type": "markdown",
   "metadata": {},
   "source": [
    "What actually happened there?  Let's track the progress of `fmin_powell` using a callback function:"
   ]
  },
  {
   "cell_type": "code",
   "execution_count": 31,
   "metadata": {
    "collapsed": false
   },
   "outputs": [],
   "source": [
    "def my_callback(params):\n",
    "   print(\"Trying parameters \" + str(params))"
   ]
  },
  {
   "cell_type": "markdown",
   "metadata": {},
   "source": [
    "`fmin_powell` calls this `my_callback` function when it is testing a new set of parameters."
   ]
  },
  {
   "cell_type": "code",
   "execution_count": 32,
   "metadata": {
    "collapsed": false
   },
   "outputs": [
    {
     "name": "stdout",
     "output_type": "stream",
     "text": [
      "Trying parameters [-7.99501254]\n",
      "Trying parameters [-7.99602669]\n",
      "Optimization terminated successfully.\n",
      "         Current function value: -0.997032\n",
      "         Iterations: 2\n",
      "         Function evaluations: 27\n"
     ]
    },
    {
     "data": {
      "text/plain": [
       "array(-7.996026691215329)"
      ]
     },
     "execution_count": 32,
     "metadata": {},
     "output_type": "execute_result"
    }
   ],
   "source": [
    "best_params = fmin_powell(cost_function, [0], callback=my_callback)\n",
    "best_params"
   ]
  },
  {
   "cell_type": "markdown",
   "metadata": {},
   "source": [
    "The optimization routine `fmin_powell` is trying various different translations, finally coming to the optimimum (minimum) translation of very nearly -8."
   ]
  },
  {
   "cell_type": "markdown",
   "metadata": {},
   "source": [
    "## More than one parameter"
   ]
  },
  {
   "cell_type": "markdown",
   "metadata": {},
   "source": [
    "How about adding y translation as well?\n",
    "\n",
    "Our optimization routine could deal with this in a very simple way - by optimizing the x translation, then the y translation, like this:\n",
    "\n",
    "* Adjust the x translation until it has reached a minimum, then;\n",
    "* Adjust the y translation until it has reached a minimum, then;\n",
    "* Repeat x, y minimization until the minimum for both is stable.\n",
    "\n",
    "Although we could do that, in fact `fmin_powell` does something slightly more complicated when looking for the next best set of parameters to try.  The details aren't important to the general idea of searching over different parameter values to find the lowest value for the cost function."
   ]
  },
  {
   "cell_type": "code",
   "execution_count": 33,
   "metadata": {
    "collapsed": false
   },
   "outputs": [],
   "source": [
    "def fancy_xy_trans_slice(img_slice, x_y_trans):\n",
    "    \"\"\" Make a new copy of `img_slice` translated by `x_y_trans` voxels\n",
    "    \n",
    "    x_y_trans is a sequence or array length 2, containing the (x, y) translations in voxels.\n",
    "    \n",
    "    Values in `x_y_trans` can be positive or negative, and can be floats.\n",
    "    \"\"\"\n",
    "    x_y_trans = np.array(x_y_trans)\n",
    "    # Resample image using bilinear interpolation (order=1)\n",
    "    trans_slice = snd.affine_transform(img_slice, [1, 1], -x_y_trans, order=1)\n",
    "    return trans_slice"
   ]
  },
  {
   "cell_type": "code",
   "execution_count": 34,
   "metadata": {
    "collapsed": false
   },
   "outputs": [],
   "source": [
    "def fancy_cost_at_xy(x_y_trans):\n",
    "    \"\"\" Give cost function at xy translation values `x_y_trans`\n",
    "    \"\"\"\n",
    "    unshifted = fancy_xy_trans_slice(shifted_mid_vol1, x_y_trans)\n",
    "    return correl_mismatch(unshifted, mid_vol0)"
   ]
  },
  {
   "cell_type": "markdown",
   "metadata": {},
   "source": [
    "Do the optimization of `fancy_cost_at_xy` using `fmin_powell`:"
   ]
  },
  {
   "cell_type": "code",
   "execution_count": 35,
   "metadata": {
    "collapsed": false
   },
   "outputs": [
    {
     "name": "stdout",
     "output_type": "stream",
     "text": [
      "Trying parameters [-7.99501254  0.        ]\n",
      "Trying parameters [-7.99602669  0.        ]\n",
      "Optimization terminated successfully.\n",
      "         Current function value: -0.997032\n",
      "         Iterations: 2\n",
      "         Function evaluations: 133\n"
     ]
    },
    {
     "data": {
      "text/plain": [
       "array([-7.99602669,  0.        ])"
      ]
     },
     "execution_count": 35,
     "metadata": {},
     "output_type": "execute_result"
    }
   ],
   "source": [
    "best_params = fmin_powell(fancy_cost_at_xy, [0, 0], callback=my_callback)\n",
    "best_params"
   ]
  },
  {
   "cell_type": "markdown",
   "metadata": {},
   "source": [
    "(You probably noticed that `fmin_powell` appears to be sticking to the right answer for y translation (0), without printing out any evidence that it is trying other y values.  This is because of the way that the Powell optimization works - it is in effect doing separate 1-parameter minimizations in order to get the final 2-parameter minimization, and it is not reporting the intermediate steps in the 1-parameter minimizations)"
   ]
  },
  {
   "cell_type": "markdown",
   "metadata": {},
   "source": [
    "## Full 3D estimate"
   ]
  },
  {
   "cell_type": "markdown",
   "metadata": {},
   "source": [
    "Now we know how to do two parameters, it's easy to extend this to six parameters.\n",
    "\n",
    "The six parameters are:\n",
    "\n",
    "* x translation\n",
    "* y translation\n",
    "* z translation\n",
    "* rotation around x axis (pitch)\n",
    "* rotation around y axis (roll)\n",
    "* rotation around z axis (yaw)\n",
    "\n",
    "Any transformation with these parameters is called a *rigid body* transformation because the transformation cannot make the object change shape (the object is *rigid*).\n",
    "\n",
    "Implementing the rotations is just slightly out of scope for this tutorial (we would have to convert between angles and [rotation matrices](http://en.wikipedia.org/wiki/Rotation_matrix)), so here is the 3D optimization with the three translation parameters:"
   ]
  },
  {
   "cell_type": "markdown",
   "metadata": {},
   "source": [
    "To make it a bit more interesting, shift the second volume 8 voxels on the first axis, as we did for the 2D case.  We will also push the image 5 voxels forward on the second axis:"
   ]
  },
  {
   "cell_type": "code",
   "execution_count": 36,
   "metadata": {
    "collapsed": false
   },
   "outputs": [
    {
     "data": {
      "text/plain": [
       "<matplotlib.image.AxesImage at 0x11166d550>"
      ]
     },
     "execution_count": 36,
     "metadata": {},
     "output_type": "execute_result"
    },
    {
     "data": {
      "image/png": "[encoded data removed]",
      "text/plain": [
       "<matplotlib.figure.Figure at 0x11146bc50>"
      ]
     },
     "metadata": {},
     "output_type": "display_data"
    }
   ],
   "source": [
    "shifted_vol1 = np.zeros(vol1.shape)\n",
    "shifted_vol1[8:, 5:, :] = vol1[:-8, :-5, :]\n",
    "plt.imshow(shifted_vol1[:, :, 17])"
   ]
  },
  {
   "cell_type": "markdown",
   "metadata": {},
   "source": [
    "We define resampling for any given x, y, z translation:"
   ]
  },
  {
   "cell_type": "code",
   "execution_count": 37,
   "metadata": {
    "collapsed": false
   },
   "outputs": [],
   "source": [
    "def xyz_trans_vol(vol, x_y_z_trans):\n",
    "    \"\"\" Make a new copy of `vol` translated by `x_y_z_trans` voxels\n",
    "    \n",
    "    x_y_z_trans is a sequence or array length 3, containing the (x, y, z) translations in voxels.\n",
    "    \n",
    "    Values in `x_y_z_trans` can be positive or negative, and can be floats.\n",
    "    \"\"\"\n",
    "    x_y_z_trans = np.array(x_y_z_trans)\n",
    "    # [1, 1, 1] says to do no zooming or rotation\n",
    "    # Resample image using trilinear interpolation (order=1)\n",
    "    trans_vol = snd.affine_transform(vol, [1, 1, 1], -x_y_z_trans, order=1)\n",
    "    return trans_vol"
   ]
  },
  {
   "cell_type": "markdown",
   "metadata": {},
   "source": [
    "Our cost function (picking up `vol0`, `shifted_vol1` from the global scope):"
   ]
  },
  {
   "cell_type": "code",
   "execution_count": 38,
   "metadata": {
    "collapsed": false
   },
   "outputs": [],
   "source": [
    "def cost_at_xyz(x_y_z_trans):\n",
    "    \"\"\" Give cost function value at xyz translation values `x_y_z_trans`\n",
    "    \"\"\"\n",
    "    unshifted = xyz_trans_vol(shifted_vol1, x_y_z_trans)\n",
    "    return correl_mismatch(unshifted, vol0)"
   ]
  },
  {
   "cell_type": "markdown",
   "metadata": {},
   "source": [
    "Do the optimization of `cost_at_xyz` using `fmin_powell`:"
   ]
  },
  {
   "cell_type": "code",
   "execution_count": 39,
   "metadata": {
    "collapsed": false
   },
   "outputs": [
    {
     "name": "stdout",
     "output_type": "stream",
     "text": [
      "Trying parameters [-7.57216655 -4.96610483  0.        ]\n",
      "Trying parameters [-7.9967514  -4.99966753  0.        ]\n",
      "Trying parameters [-7.99998292 -4.9999992   0.        ]\n",
      "Optimization terminated successfully.\n",
      "         Current function value: -0.995145\n",
      "         Iterations: 3\n",
      "         Function evaluations: 270\n"
     ]
    },
    {
     "data": {
      "text/plain": [
       "array([-7.99998292, -4.9999992 ,  0.        ])"
      ]
     },
     "execution_count": 39,
     "metadata": {},
     "output_type": "execute_result"
    }
   ],
   "source": [
    "best_params = fmin_powell(cost_at_xyz, [0, 0, 0], callback=my_callback)\n",
    "best_params"
   ]
  },
  {
   "cell_type": "markdown",
   "metadata": {},
   "source": [
    "Finally, we make a new volume from `shifted_vol1` with these transformations applied:"
   ]
  },
  {
   "cell_type": "code",
   "execution_count": 40,
   "metadata": {
    "collapsed": false
   },
   "outputs": [],
   "source": [
    "unshifted_vol1 = snd.affine_transform(shifted_vol1, [1, 1, 1], -best_params)"
   ]
  },
  {
   "cell_type": "code",
   "execution_count": 41,
   "metadata": {
    "collapsed": false
   },
   "outputs": [
    {
     "data": {
      "text/plain": [
       "<matplotlib.text.Text at 0x111b8cb10>"
      ]
     },
     "execution_count": 41,
     "metadata": {},
     "output_type": "execute_result"
    },
    {
     "data": {
      "image/png": "[encoded data removed]",
      "text/plain": [
       "<matplotlib.figure.Figure at 0x11146b1d0>"
      ]
     },
     "metadata": {},
     "output_type": "display_data"
    }
   ],
   "source": [
    "fig, axes = plt.subplots(1, 2, figsize=(10, 20))\n",
    "axes[0].imshow(vol0[:, :, 17])\n",
    "axes[0].set_title('vol0')\n",
    "axes[1].imshow(unshifted_vol1[:, :, 17])\n",
    "axes[1].set_title('unshifted vol1')"
   ]
  },
  {
   "cell_type": "markdown",
   "metadata": {},
   "source": [
    "## Getting stuck in the wrong place"
   ]
  },
  {
   "cell_type": "markdown",
   "metadata": {},
   "source": [
    "So far, all our cost function plots are simple, in the sense that they have one single obvious minimum.  For example, here is a repeat of our ealier plot of the negative correlation value, as a function of translation in x, for the shifted single slice:"
   ]
  },
  {
   "cell_type": "code",
   "execution_count": 42,
   "metadata": {
    "collapsed": false
   },
   "outputs": [],
   "source": [
    "correl_mismatches = []\n",
    "translations = range(-25, 15)  # Candidate values for t\n",
    "for t in translations:\n",
    "    unshifted = x_trans_slice(shifted_mid_vol1, t)\n",
    "    mismatch = correl_mismatch(unshifted, mid_vol0)\n",
    "    correl_mismatches.append(mismatch)"
   ]
  },
  {
   "cell_type": "code",
   "execution_count": 43,
   "metadata": {
    "collapsed": false
   },
   "outputs": [
    {
     "data": {
      "text/plain": [
       "<matplotlib.text.Text at 0x111f1fad0>"
      ]
     },
     "execution_count": 43,
     "metadata": {},
     "output_type": "execute_result"
    },
    {
     "data": {
      "image/png": "[encoded data removed]",
      "text/plain": [
       "<matplotlib.figure.Figure at 0x11146ba90>"
      ]
     },
     "metadata": {},
     "output_type": "display_data"
    }
   ],
   "source": [
    "plt.plot(translations, correl_mismatches)\n",
    "plt.title('Cost as a function of $t$')"
   ]
  },
  {
   "cell_type": "markdown",
   "metadata": {},
   "source": [
    "Notice the nice single minimum at around $t=-8$."
   ]
  },
  {
   "cell_type": "markdown",
   "metadata": {},
   "source": [
    "Unfortunately, many cost functions don't have one single minimum, but several.  In fact this is so even for our simple correlation measure, if we look at larger translations (values of $t$):"
   ]
  },
  {
   "cell_type": "code",
   "execution_count": 44,
   "metadata": {
    "collapsed": false
   },
   "outputs": [],
   "source": [
    "correl_mismatches = []\n",
    "translations = range(-60, 50)  # Candidate values for t\n",
    "for t in translations:\n",
    "    unshifted = x_trans_slice(shifted_mid_vol1, t)\n",
    "    mismatch = correl_mismatch(unshifted, mid_vol0)\n",
    "    correl_mismatches.append(mismatch)"
   ]
  },
  {
   "cell_type": "code",
   "execution_count": 45,
   "metadata": {
    "collapsed": false
   },
   "outputs": [
    {
     "data": {
      "text/plain": [
       "<matplotlib.text.Text at 0x111ffc450>"
      ]
     },
     "execution_count": 45,
     "metadata": {},
     "output_type": "execute_result"
    },
    {
     "data": {
      "image/png": "[encoded data removed]",
      "text/plain": [
       "<matplotlib.figure.Figure at 0x110edd6d0>"
      ]
     },
     "metadata": {},
     "output_type": "display_data"
    }
   ],
   "source": [
    "plt.plot(translations, correl_mismatches)\n",
    "plt.title('Cost as a function of more $t$')"
   ]
  },
  {
   "cell_type": "markdown",
   "metadata": {},
   "source": [
    "Remember that a minimum is a value for which the values to the left and right are higher.   So, the -8 value of $t$ is minimum (with a negative correlation value of -1), but the value at around $t=44$ is also a minimum, with a negative correlation value of around 0.2.   The value at $t=-8$ is a *global minimum* in the sense that it is the minimum with the lowest cost value across all values of $t$.  The value at around $t=44$ is a *local minimum*.\n",
    "\n",
    "In general, our optimization routines are only able to guarantee that they have found a local minimum.  So, if we start our search in the wrong place, then the optimization routine may well find the wrong minimum.\n",
    "\n",
    "Here is our original 1 parameter cost function (it is the same as the version above):"
   ]
  },
  {
   "cell_type": "code",
   "execution_count": 46,
   "metadata": {
    "collapsed": false
   },
   "outputs": [],
   "source": [
    "def cost_function(x_trans):\n",
    "    # Function can use image slices defined in the global (notebook) scope\n",
    "    # Calculate X_t - image translated by x_trans\n",
    "    unshifted = fancy_x_trans_slice(shifted_mid_vol1, x_trans)\n",
    "    # Return mismatch measure for the translated image X_t\n",
    "    return correl_mismatch(unshifted, mid_vol0)"
   ]
  },
  {
   "cell_type": "markdown",
   "metadata": {},
   "source": [
    "Now we minimize this cost function with `fmin_powell`, but starting nearer the local minimum:"
   ]
  },
  {
   "cell_type": "code",
   "execution_count": 47,
   "metadata": {
    "collapsed": false
   },
   "outputs": [
    {
     "name": "stdout",
     "output_type": "stream",
     "text": [
      "Optimization terminated successfully.\n",
      "         Current function value: 0.241603\n",
      "         Iterations: 2\n",
      "         Function evaluations: 55\n"
     ]
    },
    {
     "data": {
      "text/plain": [
       "array(43.00000063722926)"
      ]
     },
     "execution_count": 47,
     "metadata": {},
     "output_type": "execute_result"
    }
   ],
   "source": [
    "fmin_powell(cost_function, [35])"
   ]
  },
  {
   "cell_type": "markdown",
   "metadata": {},
   "source": [
    "Here we took a very bad starting value, but we would run the same risk if the images started off much further apart and we gave a starting value of 0."
   ]
  },
  {
   "cell_type": "markdown",
   "metadata": {},
   "source": [
    "One major part of using optimization, is being aware that it is possible for the optimization to find a \"best\" value that is a local rather than a global minimum.  The art of optimization is finding a minimization algorithm and mismatch metric that are well-adapted to the particular problem."
   ]
  }
 ],
 "metadata": {
  "kernelspec": {
   "display_name": "Python 2",
   "language": "python",
   "name": "python2"
  },
  "language_info": {
   "codemirror_mode": {
    "name": "ipython",
    "version": 2
   },
   "file_extension": ".py",
   "mimetype": "text/x-python",
   "name": "python",
   "nbconvert_exporter": "python",
   "pygments_lexer": "ipython2",
   "version": "2.7.9"
  }
 },
 "nbformat": 4,
 "nbformat_minor": 0
}
