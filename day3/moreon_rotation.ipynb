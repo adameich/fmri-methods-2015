{
 "metadata": {
  "name": "",
  "signature": "sha256:7f21945cb31ba1eae3aa4d51349bd1a0936f7c0cf5c595eb460a7911637f0550"
 },
 "name": "moreon_rotation",
 "nbformat": 3,
 "nbformat_minor": 0,
 "worksheets": [
  {
   "cells": [
    {
     "cell_type": "code",
     "collapsed": false,
     "input": [
      "# - compatibility with Python 3\n",
      "from __future__ import print_function  # print('me') instead of print 'me'\n",
      "from __future__ import division  # 1/2 == 0.5, not 0"
     ],
     "language": "python",
     "metadata": {},
     "outputs": []
    },
    {
     "cell_type": "code",
     "collapsed": false,
     "input": [
      "# - show figures inside the notebook\n",
      "%matplotlib inline"
     ],
     "language": "python",
     "metadata": {},
     "outputs": []
    },
    {
     "cell_type": "code",
     "collapsed": false,
     "input": [
      "# - import common modules\n",
      "import numpy as np  # the Python array package\n",
      "import matplotlib.pyplot as plt  # the Python plotting package"
     ],
     "language": "python",
     "metadata": {},
     "outputs": []
    },
    {
     "cell_type": "code",
     "collapsed": false,
     "input": [
      "# - set gray colormap and nearest neighbor interpolation by default\n",
      "plt.rcParams['image.cmap'] = 'gray'\n",
      "plt.rcParams['image.interpolation'] = 'nearest'"
     ],
     "language": "python",
     "metadata": {},
     "outputs": []
    },
    {
     "cell_type": "code",
     "collapsed": false,
     "input": [
      "# - nibabel package\n",
      "import nibabel as nib"
     ],
     "language": "python",
     "metadata": {},
     "outputs": []
    },
    {
     "cell_type": "markdown",
     "metadata": {},
     "source": [
      "## Preliminaries"
     ]
    },
    {
     "cell_type": "markdown",
     "metadata": {},
     "source": [
      "Check the `pna_code` utilities are on your Python path:"
     ]
    },
    {
     "cell_type": "code",
     "collapsed": false,
     "input": [
      "# Check pna import"
     ],
     "language": "python",
     "metadata": {},
     "outputs": []
    },
    {
     "cell_type": "markdown",
     "metadata": {},
     "source": [
      "## Your task..."
     ]
    },
    {
     "cell_type": "markdown",
     "metadata": {},
     "source": [
      "I have taken a copy of the first volume in `ds107_sub012_t1r2.nii`."
     ]
    },
    {
     "cell_type": "code",
     "collapsed": false,
     "input": [
      "# - the first volume of ds107_sub012_t1r2.nii\n",
      "img_4d = nib.load('ds107_sub012_t1r2.nii')\n",
      "data = img_4d.get_data()\n",
      "vol0 = data[..., 0]"
     ],
     "language": "python",
     "metadata": {},
     "outputs": []
    },
    {
     "cell_type": "markdown",
     "metadata": {},
     "source": [
      "Then I rotated it by:\n",
      "\n",
      "* 0.1 radians around the x axis, then\n",
      "* 0.2 radians around the y axis, then\n",
      "* 0.3 radians around the z axis."
     ]
    },
    {
     "cell_type": "code",
     "collapsed": false,
     "input": [
      "# - the resulting rotated image\n",
      "rotated_img = nib.load('rotated_volume.nii')\n",
      "rotated_vol0 = rotated_img.get_data()\n",
      "rotated_vol0.shape"
     ],
     "language": "python",
     "metadata": {},
     "outputs": []
    },
    {
     "cell_type": "markdown",
     "metadata": {},
     "source": [
      "Here are slices over z, y, and x, for rotated and not-rotated images"
     ]
    },
    {
     "cell_type": "code",
     "collapsed": false,
     "input": [
      "# - slices on z, y, and x axis from \n",
      "fig, axes = plt.subplots(3, 2, figsize=(10, 15))\n",
      "axes[0, 0].imshow(vol0[:, :, 17])\n",
      "axes[0, 1].imshow(rotated_vol0[:, :, 17])\n",
      "axes[1, 0].imshow(vol0[:, 31, :])\n",
      "axes[1, 1].imshow(rotated_vol0[:, 31, :])\n",
      "axes[2, 0].imshow(vol0[31, :, :])\n",
      "axes[2, 1].imshow(rotated_vol0[31, :, :])"
     ],
     "language": "python",
     "metadata": {},
     "outputs": []
    },
    {
     "cell_type": "markdown",
     "metadata": {},
     "source": [
      "Of course, I have to be more specific by what I mean when I say that I rotated this image by:\n",
      "\n",
      "* 0.1 radians around the x axis, then\n",
      "* 0.2 radians around the y axis, then\n",
      "* 0.3 radians around the z axis.\n",
      "\n",
      "I am describing the mapping from coordinates in `vol0` to coordinates in `rotated_vol0`.\n",
      "\n",
      "As you now know, in order to apply this rotation, I needed to do *pull resampling*, so I needed to use the mapping from coordinates in `rotated_vol0` to coordinates in `vol0`.  So *applying* this rotation involved: rotation of -0.3 radians around z, then -0.2 radians around y then -0.1 radians around x."
     ]
    },
    {
     "cell_type": "markdown",
     "metadata": {},
     "source": [
      "Your task, should you chose to accept it, is to make a new image, where you have undone the given rotations."
     ]
    },
    {
     "cell_type": "markdown",
     "metadata": {},
     "source": [
      "Let's remind ourselves of what we need to do.\n",
      "\n",
      "In order to make the new fixed image, we will need to\n",
      "\n",
      "1. Make a new empty image the same shape as the original;\n",
      "2. For every coordinate $(i, j, k)$ in this new empty image, we are going to apply a transformation $t$.  This transformation will give us the corresponding coordinate $(i', j', k')$ in the `rotated_vol0`;\n",
      "3. We use linear resampling to estimate a voxel value $v$ for coordinate $(i', j', k')$ in `rotated_vol0`;\n",
      "4. We put this voxel value $v$ into the empty image at coordinate $(i, j, k)$.\n",
      "\n",
      "In fact ``scipy.ndimage.affine_transform`` will do all these steps for us, but we need to supply the transformation $t$.\n",
      "\n",
      "So - what transformation do we need?\n",
      "\n",
      "We are doing pull resampling - so we want the mapping from coordinates in `vol0` to coordinates in `rotated_vol0`.\n",
      "\n",
      "Your job is to make a 3 by 3 matrix that applies this mapping.\n",
      "\n",
      "See: [wikipedia on Rotation matrices](http://en.wikipedia.org/wiki/Rotation_matrix)\n",
      "\n",
      "This is the matrix that `scipy.ndimage.affine_transform` will use to get the transformation between coordinates in the new empty image and the corresponding coordinates in the rotated image."
     ]
    },
    {
     "cell_type": "code",
     "collapsed": false,
     "input": [
      "# Make a 3 by 3 transformation matrix that applies this sequence\n",
      "# * 0.1 radians around the x axis, then\n",
      "# * 0.2 radians around the y axis, then\n",
      "# * 0.3 radians around the z axis."
     ],
     "language": "python",
     "metadata": {},
     "outputs": []
    },
    {
     "cell_type": "markdown",
     "metadata": {},
     "source": [
      "Use `scipy.ndimage.affine_transform` to create the new image and use the transform to sample from the rotated image:"
     ]
    },
    {
     "cell_type": "code",
     "collapsed": false,
     "input": [
      "# Use affine_transform to resample from `rotated_vol0` using the transform\n",
      "# Get the result into a variable `derotated_vol0`"
     ],
     "language": "python",
     "metadata": {},
     "outputs": []
    },
    {
     "cell_type": "code",
     "collapsed": false,
     "input": [
      "# - plot slices from the image to see if you got the right transformation\n",
      "fig, axes = plt.subplots(3, 2, figsize=(10, 15))\n",
      "axes[0, 0].imshow(vol0[:, :, 17])\n",
      "axes[0, 1].imshow(derotated_vol0[:, :, 17])\n",
      "axes[1, 0].imshow(vol0[:, 31, :])\n",
      "axes[1, 1].imshow(derotated_vol0[:, 31, :])\n",
      "axes[2, 0].imshow(vol0[31, :, :])\n",
      "axes[2, 1].imshow(derotated_vol0[31, :, :])"
     ],
     "language": "python",
     "metadata": {},
     "outputs": []
    }
   ],
   "metadata": {}
  }
 ]
}